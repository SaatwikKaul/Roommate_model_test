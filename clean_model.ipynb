{
 "cells": [
  {
   "cell_type": "code",
   "execution_count": null,
   "metadata": {},
   "outputs": [],
   "source": [
    "import pandas as pd\n",
    "import numpy as np\n",
    "\n",
    "file_path = 'insert data here'  # Replace with your file path\n",
    "data = pd.read_excel(file_path, sheet_name='Sheet1')\n",
    "print(data.head(5))"
   ]
  },
  {
   "cell_type": "code",
   "execution_count": null,
   "metadata": {},
   "outputs": [],
   "source": [
    "columns_to_drop = [\n",
    "    'Submission Date', 'Name', 'Age', 'Gender',\n",
    "    'Phone Number', 'Email', 'Date Signed','Allergies','Any Additional Preferences or Requirements','Preferred Location/Neighborhood'\n",
    "]\n",
    "drop_unneeded_cols_data = data.drop(columns=columns_to_drop, axis=1)\n",
    "\n",
    "print(drop_unneeded_cols_data.head())\n"
   ]
  },
  {
   "cell_type": "code",
   "execution_count": null,
   "metadata": {},
   "outputs": [],
   "source": [
    "import pandas as pd\n",
    "\n",
    "def one_hot_encode_column(dataframe, column):\n",
    "    unique_values = dataframe[column].dropna().str.split('\\n').explode().unique()\n",
    "    \n",
    "    for value in unique_values:\n",
    "        dataframe[value] = dataframe[column].apply(lambda x: 1 if pd.notna(x) and value in x.split('\\n') else 0)\n",
    "    \n",
    "    dataframe.drop(column, axis=1, inplace=True)\n",
    "\n",
    "columns_to_encode = [ 'Hobbies', 'Sports']\n",
    "for column in columns_to_encode:\n",
    "    one_hot_encode_column(drop_unneeded_cols_data, column)\n"
   ]
  },
  {
   "cell_type": "code",
   "execution_count": null,
   "metadata": {},
   "outputs": [],
   "source": [
    "def one_hot_encode_single_selection_columns(dataframe):\n",
    "    \n",
    "    single_selection_columns = dataframe.select_dtypes(include=['object']).columns\n",
    "    \n",
    "    dataframe = pd.get_dummies(dataframe, columns=single_selection_columns, prefix=single_selection_columns)\n",
    "    \n",
    "    return dataframe\n",
    "\n",
    "one_hot_encoded_data = one_hot_encode_single_selection_columns(drop_unneeded_cols_data)\n",
    "\n",
    "\n"
   ]
  },
  {
   "cell_type": "code",
   "execution_count": null,
   "metadata": {},
   "outputs": [],
   "source": [
    "def calculate_compatibility_with_weights(person1, person2, special_columns, important_columns_weights):\n",
    "    p1 = np.array(person1,dtype=int)\n",
    "    p2 = np.array(person2,dtype=int)\n",
    "    score = 0\n",
    "    for i in range(len(p1)):\n",
    "        if i in special_columns:\n",
    "            if p1[i] == 1 or p2[i] == 1:\n",
    "                score += 1\n",
    "        elif i in important_columns_weights:\n",
    "            if p1[i] == 1 and p2[i] == 1:\n",
    "                score += important_columns_weights[i]\n",
    "        else:\n",
    "            score += p1[i] * p2[i]\n",
    "    return score\n",
    "\n",
    "special_columns = [34,38, 40, 45, 50, 53, 55, 58, 66]  # Example for \"Preferred Lifestyle (Smoking)\" = 54\n",
    "important_columns_weights = {\n",
    "    32: 1.5,  # Preferred Gender of Roommate_Female\n",
    "    33: 1.5, # Preferred Gender of Roommate_Male\n",
    "    34: 1.5, # Preferred Gender of Roommate_No Preference, getting skipped currently since its a no preference col\n",
    "       \n",
    "}\n"
   ]
  },
  {
   "cell_type": "code",
   "execution_count": null,
   "metadata": {},
   "outputs": [],
   "source": [
    "def list_scores_for_person_weighted(dataframe, person_index, original_data):\n",
    "    scores = []\n",
    "    for i in range(len(dataframe)):\n",
    "        if i != person_index:  \n",
    "            score = calculate_compatibility_with_weights(dataframe.iloc[person_index], dataframe.iloc[i],special_columns,important_columns_weights)\n",
    "            scores.append((original_data.iloc[i]['Name'], score))\n",
    "    scores.sort(key=lambda x: x[1], reverse=True)\n",
    "    return scores\n",
    "\n",
    "person_index = 3  \n",
    "all_scores2 = list_scores_for_person_weighted(one_hot_encoded_data, person_index, data)\n",
    "\n",
    "person_name = data.iloc[person_index]['Name'] \n",
    "print(f\"Compatibility Scores for {person_name} (sorted):\")\n",
    "for other_person_name, score in all_scores2:\n",
    "    print(f\"{other_person_name}: {score}\")\n"
   ]
  },
  {
   "cell_type": "code",
   "execution_count": null,
   "metadata": {},
   "outputs": [],
   "source": [
    "one_hot_encoded_data.to_csv('one_hot_encoded_data.csv', index=False)\n",
    "print(\"Data saved to 'one_hot_encoded_data.csv'\")"
   ]
  }
 ],
 "metadata": {
  "kernelspec": {
   "display_name": "Python 3",
   "language": "python",
   "name": "python3"
  },
  "language_info": {
   "codemirror_mode": {
    "name": "ipython",
    "version": 3
   },
   "file_extension": ".py",
   "mimetype": "text/x-python",
   "name": "python",
   "nbconvert_exporter": "python",
   "pygments_lexer": "ipython3",
   "version": "3.12.6"
  }
 },
 "nbformat": 4,
 "nbformat_minor": 2
}
